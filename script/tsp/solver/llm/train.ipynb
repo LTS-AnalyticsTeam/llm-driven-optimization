{
 "cells": [
  {
   "cell_type": "code",
   "execution_count": 9,
   "metadata": {},
   "outputs": [
    {
     "data": {
      "text/plain": [
       "True"
      ]
     },
     "execution_count": 9,
     "metadata": {},
     "output_type": "execute_result"
    }
   ],
   "source": [
    "import os\n",
    "from dotenv import load_dotenv\n",
    "\n",
    "dotenv_path = \"/app/script/tsp/solver/llm/.env\"\n",
    "load_dotenv(dotenv_path)"
   ]
  },
  {
   "cell_type": "code",
   "execution_count": null,
   "metadata": {},
   "outputs": [],
   "source": [
    "import json\n",
    "\n"
   ]
  },
  {
   "cell_type": "code",
   "execution_count": 23,
   "metadata": {},
   "outputs": [],
   "source": [
    "from openai import OpenAI\n",
    "from pathlib import Path\n",
    "import json\n",
    "\n",
    "client = OpenAI()\n",
    "\n",
    "import base64\n",
    "\n",
    "\n",
    "def img2base64(image_path):\n",
    "    with open(image_path, \"rb\") as image_file:\n",
    "        # バイナリとしてファイルを読み込み\n",
    "        encoded_string = base64.b64encode(image_file.read())\n",
    "        # バイト列をUTF-8文字列に変換\n",
    "        return encoded_string.decode(\"utf-8\")\n",
    "\n",
    "image_path = \"/app/tests/script/__output__/simulator/tsp_problem.png\"\n",
    "text = \"巡回セールスマン問題の答えを出力してください。\"\n",
    "file_path = \"/app/script/tsp/solver/llm/schema.json\"\n",
    "with open(file_path, \"r\", encoding=\"utf-8\") as f:\n",
    "    json_schema = json.load(f)\n",
    "\n",
    "response = client.chat.completions.create(\n",
    "    model=\"gpt-4o\",\n",
    "    messages=[\n",
    "        {\n",
    "            \"role\": \"user\",\n",
    "            \"content\": [\n",
    "                {\n",
    "                    \"type\": \"image_url\",\n",
    "                    \"image_url\": {\n",
    "                        \"url\": f\"data:image/png;base64,{img2base64(image_path)}\"\n",
    "                    },\n",
    "                },\n",
    "                {\"type\": \"text\", \"text\": text},\n",
    "            ],\n",
    "        },\n",
    "        {\n",
    "            \"role\": \"assistant\",\n",
    "            \"content\": [\n",
    "                {\n",
    "                    \"type\": \"text\",\n",
    "                    \"text\": \"これはグラフの画像です。ノードとエッジからなる構造で、おそらくネットワークを表現しています。赤いエッジは、例えば最小全域木のような特別なサブセットを示している可能性があります。ノードは数字でラベル付けされ、全体としてグラフの構造や接続を視覚的に示しています。\",\n",
    "                }\n",
    "            ],\n",
    "        },\n",
    "    ],\n",
    "    response_format={\n",
    "        \"type\": \"json_schema\",\n",
    "        \"json_schema\": json_schema\n",
    "    },\n",
    "    temperature=1,\n",
    "    max_completion_tokens=2048,\n",
    "    top_p=1,\n",
    "    frequency_penalty=0,\n",
    "    presence_penalty=0,\n",
    ")\n"
   ]
  },
  {
   "cell_type": "code",
   "execution_count": 29,
   "metadata": {},
   "outputs": [],
   "source": [
    "output = json.loads(response.choices[0].message.content)"
   ]
  },
  {
   "cell_type": "code",
   "execution_count": 30,
   "metadata": {},
   "outputs": [
    {
     "name": "stdout",
     "output_type": "stream",
     "text": [
      "[0, 5, 8, 9, 6, 1, 7, 3, 2, 4, 0]\n",
      "巡回セールスマン問題（TSP）の解を求めるためには、すべての都市（ここではノード）を回って出発地点に戻る、最も短いルートを見つける必要があります。できるだけ近いノードを順に訪れていく貪欲法や、既知のヒューリスティックアルゴリズム（例えば最近近傍法、2-opt法）を用いるのが一般的です。この画像の場合、多くのエッジが存在しており、見つかった経路は0-5-8-9-6-1-7-3-2-4-0です。これは一直線の解法ではないため、もう少し探索することで最適化可能かもしれませんが、初期の許容解としてはこの経路となります。\n"
     ]
    }
   ],
   "source": [
    "print(output[\"solution\"])\n",
    "print(output[\"reasoning\"])"
   ]
  },
  {
   "cell_type": "code",
   "execution_count": null,
   "metadata": {},
   "outputs": [
    {
     "data": {
      "text/plain": [
       "openai.types.chat.chat_completion.ChatCompletion"
      ]
     },
     "execution_count": 12,
     "metadata": {},
     "output_type": "execute_result"
    }
   ],
   "source": [
    "from openai import OpenAI\n",
    "client = OpenAI()\n",
    "\n",
    "response = client.chat.completions.create(\n",
    "  model=\"gpt-4o\",\n",
    "  messages=[\n",
    "    {\n",
    "      \"role\": \"user\",\n",
    "      \"content\": [\n",
    "        {\n",
    "          \"type\": \"image_url\",\n",
    "          \"image_url\": {\n",
    "            \"url\": \"data:image/png;base64,...\"\n",
    "          }\n",
    "        },\n",
    "        {\n",
    "          \"type\": \"text\",\n",
    "          \"text\": \"巡回セールスマン問題を解いてください。\"\n",
    "        }\n",
    "      ]\n",
    "    },\n",
    "    {\n",
    "      \"role\": \"assistant\",\n",
    "      \"content\": [\n",
    "        {\n",
    "          \"type\": \"text\",\n",
    "          \"text\": \"{\\\"solution\\\":[0,1,2,4,6,8,9,5,3,7,0],\\\"reasoning\\\":\\\"\\\\n巡回セールスマン問題を解決するためには、すべてのノードを一度だけ訪れ、元の場所に戻る最短ルートを見つける必要があります。このグラフは完全グラフであるため、経路のバリエーションは非常に多いです。全探索や近似アルゴリズムによって、それぞれのノード間の距離を計算し、最小コストの巡回経路を見つけました。幾つかの近似アルゴリズムを試行し、その結果として得られた経路が[0,1,2,4,6,8,9,5,3,7,0]です。この順序でノード間を通ると、各ノードを一度だけ訪れて出発点に戻ることができます。\\\"}\"\n",
    "        }\n",
    "      ]\n",
    "    }\n",
    "  ],\n",
    "  response_format={\n",
    "    \"type\": \"json_schema\",\n",
    "    \"json_schema\": json_schema\n",
    "  },\n",
    "  temperature=1,\n",
    "  max_completion_tokens=2048,\n",
    "  top_p=1,\n",
    "  frequency_penalty=0,\n",
    "  presence_penalty=0\n",
    ")"
   ]
  },
  {
   "cell_type": "code",
   "execution_count": null,
   "metadata": {},
   "outputs": [],
   "source": []
  }
 ],
 "metadata": {
  "kernelspec": {
   "display_name": "Python 3",
   "language": "python",
   "name": "python3"
  },
  "language_info": {
   "codemirror_mode": {
    "name": "ipython",
    "version": 3
   },
   "file_extension": ".py",
   "mimetype": "text/x-python",
   "name": "python",
   "nbconvert_exporter": "python",
   "pygments_lexer": "ipython3",
   "version": "3.12.8"
  }
 },
 "nbformat": 4,
 "nbformat_minor": 2
}
